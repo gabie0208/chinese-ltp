{
  "nbformat": 4,
  "nbformat_minor": 0,
  "metadata": {
    "colab": {
      "name": "SRL_rootnum에 해당하는 tag name 저장하기r.ipynb",
      "provenance": [],
      "authorship_tag": "ABX9TyOYV/AeoofCsak4Iiz/Kmvy",
      "include_colab_link": true
    },
    "kernelspec": {
      "name": "python3",
      "display_name": "Python 3"
    },
    "language_info": {
      "name": "python"
    },
    "accelerator": "GPU",
    "widgets": {
      "application/vnd.jupyter.widget-state+json": {
        "c29a487856b34ea1a4c0676c70597780": {
          "model_module": "@jupyter-widgets/controls",
          "model_name": "HBoxModel",
          "model_module_version": "1.5.0",
          "state": {
            "_view_name": "HBoxView",
            "_dom_classes": [],
            "_model_name": "HBoxModel",
            "_view_module": "@jupyter-widgets/controls",
            "_model_module_version": "1.5.0",
            "_view_count": null,
            "_view_module_version": "1.5.0",
            "box_style": "",
            "layout": "IPY_MODEL_d0d371e5fb234823934dd7b5fd09a754",
            "_model_module": "@jupyter-widgets/controls",
            "children": [
              "IPY_MODEL_fc845bd993e147f3aee8097b2e2e5241",
              "IPY_MODEL_573953e942d94f579f4436eb6a163f17",
              "IPY_MODEL_b031f1ff692d4a4495f95e469b583e77"
            ]
          }
        },
        "d0d371e5fb234823934dd7b5fd09a754": {
          "model_module": "@jupyter-widgets/base",
          "model_name": "LayoutModel",
          "model_module_version": "1.2.0",
          "state": {
            "_view_name": "LayoutView",
            "grid_template_rows": null,
            "right": null,
            "justify_content": null,
            "_view_module": "@jupyter-widgets/base",
            "overflow": null,
            "_model_module_version": "1.2.0",
            "_view_count": null,
            "flex_flow": null,
            "width": null,
            "min_width": null,
            "border": null,
            "align_items": null,
            "bottom": null,
            "_model_module": "@jupyter-widgets/base",
            "top": null,
            "grid_column": null,
            "overflow_y": null,
            "overflow_x": null,
            "grid_auto_flow": null,
            "grid_area": null,
            "grid_template_columns": null,
            "flex": null,
            "_model_name": "LayoutModel",
            "justify_items": null,
            "grid_row": null,
            "max_height": null,
            "align_content": null,
            "visibility": null,
            "align_self": null,
            "height": null,
            "min_height": null,
            "padding": null,
            "grid_auto_rows": null,
            "grid_gap": null,
            "max_width": null,
            "order": null,
            "_view_module_version": "1.2.0",
            "grid_template_areas": null,
            "object_position": null,
            "object_fit": null,
            "grid_auto_columns": null,
            "margin": null,
            "display": null,
            "left": null
          }
        },
        "fc845bd993e147f3aee8097b2e2e5241": {
          "model_module": "@jupyter-widgets/controls",
          "model_name": "HTMLModel",
          "model_module_version": "1.5.0",
          "state": {
            "_view_name": "HTMLView",
            "style": "IPY_MODEL_737bdd80cd814ff895ed402604680d9a",
            "_dom_classes": [],
            "description": "",
            "_model_name": "HTMLModel",
            "placeholder": "​",
            "_view_module": "@jupyter-widgets/controls",
            "_model_module_version": "1.5.0",
            "value": "Downloading: 100%",
            "_view_count": null,
            "_view_module_version": "1.5.0",
            "description_tooltip": null,
            "_model_module": "@jupyter-widgets/controls",
            "layout": "IPY_MODEL_e9ff1e5f608646e3814d7605dbba0217"
          }
        },
        "573953e942d94f579f4436eb6a163f17": {
          "model_module": "@jupyter-widgets/controls",
          "model_name": "FloatProgressModel",
          "model_module_version": "1.5.0",
          "state": {
            "_view_name": "ProgressView",
            "style": "IPY_MODEL_552137711bc04f3dbffdc23595b2c352",
            "_dom_classes": [],
            "description": "",
            "_model_name": "FloatProgressModel",
            "bar_style": "success",
            "max": 164437832,
            "_view_module": "@jupyter-widgets/controls",
            "_model_module_version": "1.5.0",
            "value": 164437832,
            "_view_count": null,
            "_view_module_version": "1.5.0",
            "orientation": "horizontal",
            "min": 0,
            "description_tooltip": null,
            "_model_module": "@jupyter-widgets/controls",
            "layout": "IPY_MODEL_0e2ab74297bf4bb793a9b46b4e593ec0"
          }
        },
        "b031f1ff692d4a4495f95e469b583e77": {
          "model_module": "@jupyter-widgets/controls",
          "model_name": "HTMLModel",
          "model_module_version": "1.5.0",
          "state": {
            "_view_name": "HTMLView",
            "style": "IPY_MODEL_dbb7ecf3bc2942b08e9d34e09892fa96",
            "_dom_classes": [],
            "description": "",
            "_model_name": "HTMLModel",
            "placeholder": "​",
            "_view_module": "@jupyter-widgets/controls",
            "_model_module_version": "1.5.0",
            "value": " 164M/164M [02:06&lt;00:00, 1.32MB/s]",
            "_view_count": null,
            "_view_module_version": "1.5.0",
            "description_tooltip": null,
            "_model_module": "@jupyter-widgets/controls",
            "layout": "IPY_MODEL_24368b338fb54c3fba2c532be5e5698e"
          }
        },
        "737bdd80cd814ff895ed402604680d9a": {
          "model_module": "@jupyter-widgets/controls",
          "model_name": "DescriptionStyleModel",
          "model_module_version": "1.5.0",
          "state": {
            "_view_name": "StyleView",
            "_model_name": "DescriptionStyleModel",
            "description_width": "",
            "_view_module": "@jupyter-widgets/base",
            "_model_module_version": "1.5.0",
            "_view_count": null,
            "_view_module_version": "1.2.0",
            "_model_module": "@jupyter-widgets/controls"
          }
        },
        "e9ff1e5f608646e3814d7605dbba0217": {
          "model_module": "@jupyter-widgets/base",
          "model_name": "LayoutModel",
          "model_module_version": "1.2.0",
          "state": {
            "_view_name": "LayoutView",
            "grid_template_rows": null,
            "right": null,
            "justify_content": null,
            "_view_module": "@jupyter-widgets/base",
            "overflow": null,
            "_model_module_version": "1.2.0",
            "_view_count": null,
            "flex_flow": null,
            "width": null,
            "min_width": null,
            "border": null,
            "align_items": null,
            "bottom": null,
            "_model_module": "@jupyter-widgets/base",
            "top": null,
            "grid_column": null,
            "overflow_y": null,
            "overflow_x": null,
            "grid_auto_flow": null,
            "grid_area": null,
            "grid_template_columns": null,
            "flex": null,
            "_model_name": "LayoutModel",
            "justify_items": null,
            "grid_row": null,
            "max_height": null,
            "align_content": null,
            "visibility": null,
            "align_self": null,
            "height": null,
            "min_height": null,
            "padding": null,
            "grid_auto_rows": null,
            "grid_gap": null,
            "max_width": null,
            "order": null,
            "_view_module_version": "1.2.0",
            "grid_template_areas": null,
            "object_position": null,
            "object_fit": null,
            "grid_auto_columns": null,
            "margin": null,
            "display": null,
            "left": null
          }
        },
        "552137711bc04f3dbffdc23595b2c352": {
          "model_module": "@jupyter-widgets/controls",
          "model_name": "ProgressStyleModel",
          "model_module_version": "1.5.0",
          "state": {
            "_view_name": "StyleView",
            "_model_name": "ProgressStyleModel",
            "description_width": "",
            "_view_module": "@jupyter-widgets/base",
            "_model_module_version": "1.5.0",
            "_view_count": null,
            "_view_module_version": "1.2.0",
            "bar_color": null,
            "_model_module": "@jupyter-widgets/controls"
          }
        },
        "0e2ab74297bf4bb793a9b46b4e593ec0": {
          "model_module": "@jupyter-widgets/base",
          "model_name": "LayoutModel",
          "model_module_version": "1.2.0",
          "state": {
            "_view_name": "LayoutView",
            "grid_template_rows": null,
            "right": null,
            "justify_content": null,
            "_view_module": "@jupyter-widgets/base",
            "overflow": null,
            "_model_module_version": "1.2.0",
            "_view_count": null,
            "flex_flow": null,
            "width": null,
            "min_width": null,
            "border": null,
            "align_items": null,
            "bottom": null,
            "_model_module": "@jupyter-widgets/base",
            "top": null,
            "grid_column": null,
            "overflow_y": null,
            "overflow_x": null,
            "grid_auto_flow": null,
            "grid_area": null,
            "grid_template_columns": null,
            "flex": null,
            "_model_name": "LayoutModel",
            "justify_items": null,
            "grid_row": null,
            "max_height": null,
            "align_content": null,
            "visibility": null,
            "align_self": null,
            "height": null,
            "min_height": null,
            "padding": null,
            "grid_auto_rows": null,
            "grid_gap": null,
            "max_width": null,
            "order": null,
            "_view_module_version": "1.2.0",
            "grid_template_areas": null,
            "object_position": null,
            "object_fit": null,
            "grid_auto_columns": null,
            "margin": null,
            "display": null,
            "left": null
          }
        },
        "dbb7ecf3bc2942b08e9d34e09892fa96": {
          "model_module": "@jupyter-widgets/controls",
          "model_name": "DescriptionStyleModel",
          "model_module_version": "1.5.0",
          "state": {
            "_view_name": "StyleView",
            "_model_name": "DescriptionStyleModel",
            "description_width": "",
            "_view_module": "@jupyter-widgets/base",
            "_model_module_version": "1.5.0",
            "_view_count": null,
            "_view_module_version": "1.2.0",
            "_model_module": "@jupyter-widgets/controls"
          }
        },
        "24368b338fb54c3fba2c532be5e5698e": {
          "model_module": "@jupyter-widgets/base",
          "model_name": "LayoutModel",
          "model_module_version": "1.2.0",
          "state": {
            "_view_name": "LayoutView",
            "grid_template_rows": null,
            "right": null,
            "justify_content": null,
            "_view_module": "@jupyter-widgets/base",
            "overflow": null,
            "_model_module_version": "1.2.0",
            "_view_count": null,
            "flex_flow": null,
            "width": null,
            "min_width": null,
            "border": null,
            "align_items": null,
            "bottom": null,
            "_model_module": "@jupyter-widgets/base",
            "top": null,
            "grid_column": null,
            "overflow_y": null,
            "overflow_x": null,
            "grid_auto_flow": null,
            "grid_area": null,
            "grid_template_columns": null,
            "flex": null,
            "_model_name": "LayoutModel",
            "justify_items": null,
            "grid_row": null,
            "max_height": null,
            "align_content": null,
            "visibility": null,
            "align_self": null,
            "height": null,
            "min_height": null,
            "padding": null,
            "grid_auto_rows": null,
            "grid_gap": null,
            "max_width": null,
            "order": null,
            "_view_module_version": "1.2.0",
            "grid_template_areas": null,
            "object_position": null,
            "object_fit": null,
            "grid_auto_columns": null,
            "margin": null,
            "display": null,
            "left": null
          }
        }
      }
    }
  },
  "cells": [
    {
      "cell_type": "markdown",
      "metadata": {
        "id": "view-in-github",
        "colab_type": "text"
      },
      "source": [
        "<a href=\"https://colab.research.google.com/github/gabie0208/chinese-ltp/blob/main/SRL_rootnum%EC%97%90_%ED%95%B4%EB%8B%B9%ED%95%98%EB%8A%94_tag_name_%EC%A0%80%EC%9E%A5%ED%95%98%EA%B8%B0r.ipynb\" target=\"_parent\"><img src=\"https://colab.research.google.com/assets/colab-badge.svg\" alt=\"Open In Colab\"/></a>"
      ]
    },
    {
      "cell_type": "code",
      "metadata": {
        "colab": {
          "base_uri": "https://localhost:8080/"
        },
        "id": "7S6lM_N-8uvC",
        "outputId": "2deb2e3f-769c-4a6c-9f2a-961bfc7806da"
      },
      "source": [
        "!pip install ltp"
      ],
      "execution_count": 1,
      "outputs": [
        {
          "output_type": "stream",
          "name": "stdout",
          "text": [
            "Collecting ltp\n",
            "  Downloading ltp-4.1.5.post2-py3-none-any.whl (94 kB)\n",
            "\u001b[?25l\r\u001b[K     |███▌                            | 10 kB 29.3 MB/s eta 0:00:01\r\u001b[K     |███████                         | 20 kB 20.3 MB/s eta 0:00:01\r\u001b[K     |██████████▍                     | 30 kB 10.8 MB/s eta 0:00:01\r\u001b[K     |██████████████                  | 40 kB 8.8 MB/s eta 0:00:01\r\u001b[K     |█████████████████▍              | 51 kB 5.2 MB/s eta 0:00:01\r\u001b[K     |████████████████████▉           | 61 kB 5.8 MB/s eta 0:00:01\r\u001b[K     |████████████████████████▎       | 71 kB 5.5 MB/s eta 0:00:01\r\u001b[K     |███████████████████████████▉    | 81 kB 6.2 MB/s eta 0:00:01\r\u001b[K     |███████████████████████████████▎| 92 kB 4.9 MB/s eta 0:00:01\r\u001b[K     |████████████████████████████████| 94 kB 1.9 MB/s \n",
            "\u001b[?25hCollecting transformers<=4.7.0,>=4.0.0\n",
            "  Downloading transformers-4.7.0-py3-none-any.whl (2.5 MB)\n",
            "\u001b[K     |████████████████████████████████| 2.5 MB 38.0 MB/s \n",
            "\u001b[?25hRequirement already satisfied: packaging>=20.0 in /usr/local/lib/python3.7/dist-packages (from ltp) (21.0)\n",
            "Collecting pygtrie<2.5,>=2.3.0\n",
            "  Downloading pygtrie-2.4.2.tar.gz (35 kB)\n",
            "Requirement already satisfied: torch>=1.2.0 in /usr/local/lib/python3.7/dist-packages (from ltp) (1.9.0+cu111)\n",
            "Requirement already satisfied: pyparsing>=2.0.2 in /usr/local/lib/python3.7/dist-packages (from packaging>=20.0->ltp) (2.4.7)\n",
            "Requirement already satisfied: typing-extensions in /usr/local/lib/python3.7/dist-packages (from torch>=1.2.0->ltp) (3.7.4.3)\n",
            "Requirement already satisfied: numpy>=1.17 in /usr/local/lib/python3.7/dist-packages (from transformers<=4.7.0,>=4.0.0->ltp) (1.19.5)\n",
            "Requirement already satisfied: filelock in /usr/local/lib/python3.7/dist-packages (from transformers<=4.7.0,>=4.0.0->ltp) (3.3.0)\n",
            "Requirement already satisfied: regex!=2019.12.17 in /usr/local/lib/python3.7/dist-packages (from transformers<=4.7.0,>=4.0.0->ltp) (2019.12.20)\n",
            "Collecting sacremoses\n",
            "  Downloading sacremoses-0.0.46-py3-none-any.whl (895 kB)\n",
            "\u001b[K     |████████████████████████████████| 895 kB 39.9 MB/s \n",
            "\u001b[?25hRequirement already satisfied: tqdm>=4.27 in /usr/local/lib/python3.7/dist-packages (from transformers<=4.7.0,>=4.0.0->ltp) (4.62.3)\n",
            "Requirement already satisfied: requests in /usr/local/lib/python3.7/dist-packages (from transformers<=4.7.0,>=4.0.0->ltp) (2.23.0)\n",
            "Collecting tokenizers<0.11,>=0.10.1\n",
            "  Downloading tokenizers-0.10.3-cp37-cp37m-manylinux_2_5_x86_64.manylinux1_x86_64.manylinux_2_12_x86_64.manylinux2010_x86_64.whl (3.3 MB)\n",
            "\u001b[K     |████████████████████████████████| 3.3 MB 32.0 MB/s \n",
            "\u001b[?25hRequirement already satisfied: pyyaml in /usr/local/lib/python3.7/dist-packages (from transformers<=4.7.0,>=4.0.0->ltp) (3.13)\n",
            "Requirement already satisfied: importlib-metadata in /usr/local/lib/python3.7/dist-packages (from transformers<=4.7.0,>=4.0.0->ltp) (4.8.1)\n",
            "Collecting huggingface-hub==0.0.8\n",
            "  Downloading huggingface_hub-0.0.8-py3-none-any.whl (34 kB)\n",
            "Requirement already satisfied: zipp>=0.5 in /usr/local/lib/python3.7/dist-packages (from importlib-metadata->transformers<=4.7.0,>=4.0.0->ltp) (3.6.0)\n",
            "Requirement already satisfied: certifi>=2017.4.17 in /usr/local/lib/python3.7/dist-packages (from requests->transformers<=4.7.0,>=4.0.0->ltp) (2021.5.30)\n",
            "Requirement already satisfied: idna<3,>=2.5 in /usr/local/lib/python3.7/dist-packages (from requests->transformers<=4.7.0,>=4.0.0->ltp) (2.10)\n",
            "Requirement already satisfied: chardet<4,>=3.0.2 in /usr/local/lib/python3.7/dist-packages (from requests->transformers<=4.7.0,>=4.0.0->ltp) (3.0.4)\n",
            "Requirement already satisfied: urllib3!=1.25.0,!=1.25.1,<1.26,>=1.21.1 in /usr/local/lib/python3.7/dist-packages (from requests->transformers<=4.7.0,>=4.0.0->ltp) (1.24.3)\n",
            "Requirement already satisfied: six in /usr/local/lib/python3.7/dist-packages (from sacremoses->transformers<=4.7.0,>=4.0.0->ltp) (1.15.0)\n",
            "Requirement already satisfied: joblib in /usr/local/lib/python3.7/dist-packages (from sacremoses->transformers<=4.7.0,>=4.0.0->ltp) (1.0.1)\n",
            "Requirement already satisfied: click in /usr/local/lib/python3.7/dist-packages (from sacremoses->transformers<=4.7.0,>=4.0.0->ltp) (7.1.2)\n",
            "Building wheels for collected packages: pygtrie\n",
            "  Building wheel for pygtrie (setup.py) ... \u001b[?25l\u001b[?25hdone\n",
            "  Created wheel for pygtrie: filename=pygtrie-2.4.2-py3-none-any.whl size=19062 sha256=23e9ec93734ceb407d0f89e6d4f975cd7731b36ca6d9ad51495f7df22184bd16\n",
            "  Stored in directory: /root/.cache/pip/wheels/d3/f8/ba/1d828b1603ea422686eb694253a43cb3a5901ea4696c1e0603\n",
            "Successfully built pygtrie\n",
            "Installing collected packages: tokenizers, sacremoses, huggingface-hub, transformers, pygtrie, ltp\n",
            "Successfully installed huggingface-hub-0.0.8 ltp-4.1.5.post2 pygtrie-2.4.2 sacremoses-0.0.46 tokenizers-0.10.3 transformers-4.7.0\n"
          ]
        }
      ]
    },
    {
      "cell_type": "code",
      "metadata": {
        "colab": {
          "base_uri": "https://localhost:8080/",
          "height": 50,
          "referenced_widgets": [
            "c29a487856b34ea1a4c0676c70597780",
            "d0d371e5fb234823934dd7b5fd09a754",
            "fc845bd993e147f3aee8097b2e2e5241",
            "573953e942d94f579f4436eb6a163f17",
            "b031f1ff692d4a4495f95e469b583e77",
            "737bdd80cd814ff895ed402604680d9a",
            "e9ff1e5f608646e3814d7605dbba0217",
            "552137711bc04f3dbffdc23595b2c352",
            "0e2ab74297bf4bb793a9b46b4e593ec0",
            "dbb7ecf3bc2942b08e9d34e09892fa96",
            "24368b338fb54c3fba2c532be5e5698e"
          ]
        },
        "id": "Xn_tXaOk_E0r",
        "outputId": "393c404d-4424-4172-c9d0-94bb0212b758"
      },
      "source": [
        "from ltp import LTP\n",
        "\n",
        "ltp = LTP()"
      ],
      "execution_count": 2,
      "outputs": [
        {
          "output_type": "display_data",
          "data": {
            "application/vnd.jupyter.widget-view+json": {
              "model_id": "c29a487856b34ea1a4c0676c70597780",
              "version_minor": 0,
              "version_major": 2
            },
            "text/plain": [
              "Downloading:   0%|          | 0.00/164M [00:00<?, ?B/s]"
            ]
          },
          "metadata": {}
        }
      ]
    },
    {
      "cell_type": "markdown",
      "metadata": {
        "id": "zetPuVASCynw"
      },
      "source": [
        "## sdp를 실행하여 root의 위치-1 값을 root_num 변수에 저장한다."
      ]
    },
    {
      "cell_type": "code",
      "metadata": {
        "id": "tr34Vc5w8sTr"
      },
      "source": [
        "seg, hidden = ltp.seg([\"中国同时代的建筑往往远不如别的采用石结构的国家的那么多、那么早、那么好。\"])\n",
        "sdp = ltp.sdp(hidden, mode='tree')[0]"
      ],
      "execution_count": 3,
      "outputs": []
    },
    {
      "cell_type": "code",
      "metadata": {
        "colab": {
          "base_uri": "https://localhost:8080/"
        },
        "id": "KevPJPzLFI6h",
        "outputId": "75aebef4-9139-4dba-8a9e-7d7e1b6238b4"
      },
      "source": [
        "print(seg)\n",
        "print(sdp)"
      ],
      "execution_count": 4,
      "outputs": [
        {
          "output_type": "stream",
          "name": "stdout",
          "text": [
            "[['中国', '同时代', '的', '建筑', '往往', '远', '不如', '别的', '采用石结构', '的', '国家', '的', '那么', '多', '、', '那么', '早', '、', '那么', '好', '。']]\n",
            "[(1, 4, 'FEAT'), (2, 4, 'FEAT'), (3, 2, 'mDEPD'), (4, 14, 'EXP'), (5, 6, 'mDEPD'), (6, 14, 'mDEPD'), (7, 6, 'mNEG'), (8, 11, 'FEAT'), (9, 11, 'rAGT'), (10, 9, 'mDEPD'), (11, 14, 'EXP'), (12, 11, 'mDEPD'), (13, 14, 'mDEPD'), (14, 0, 'Root'), (15, 14, 'mPUNC'), (16, 17, 'mDEPD'), (17, 14, 'eCOO'), (18, 17, 'mPUNC'), (19, 20, 'mDEPD'), (20, 17, 'eCOO'), (21, 20, 'mPUNC')]\n"
          ]
        }
      ]
    },
    {
      "cell_type": "code",
      "metadata": {
        "colab": {
          "base_uri": "https://localhost:8080/"
        },
        "id": "moIDHep5CJxv",
        "outputId": "54934a8e-5a3f-44e8-b155-435150a6db69"
      },
      "source": [
        "for triplet in sdp:\n",
        "  if \"Root\" in triplet[2]:\n",
        "      root_num = triplet[0]-1\n",
        "\n",
        "print(root_num)"
      ],
      "execution_count": 5,
      "outputs": [
        {
          "output_type": "stream",
          "name": "stdout",
          "text": [
            "13\n"
          ]
        }
      ]
    },
    {
      "cell_type": "markdown",
      "metadata": {
        "id": "CEf3j27dC64A"
      },
      "source": [
        "## srl을 실행하여 root_num과 srl의 [0][i][0]번째 숫자가 같은 경우, [0][i][1]번째 리스트를 tuple_list 변수에 저장한다. tuple_list의 원소를 하나씩 탐색하며 [i][2]번째, 즉 마지막 숫자가 root_num보다 작은 경우 해당 tag를 check_tag 변수에 저장한다."
      ]
    },
    {
      "cell_type": "code",
      "metadata": {
        "id": "R0_oTIuZCbfc"
      },
      "source": [
        "seg, hidden = ltp.seg([\"中国同时代的建筑往往远不如别的采用石结构的国家的那么多、那么早、那么好。\"])\n",
        "srl = ltp.srl(hidden, keep_empty = False)"
      ],
      "execution_count": 6,
      "outputs": []
    },
    {
      "cell_type": "code",
      "metadata": {
        "colab": {
          "base_uri": "https://localhost:8080/"
        },
        "id": "D0jM0v0uDzzP",
        "outputId": "7578c408-4d75-473b-8380-b7bd69e397f4"
      },
      "source": [
        "print(seg)\n",
        "print(srl)"
      ],
      "execution_count": 15,
      "outputs": [
        {
          "output_type": "stream",
          "name": "stdout",
          "text": [
            "[['中国', '同时代', '的', '建筑', '往往', '远', '不如', '别的', '采用石结构', '的', '国家', '的', '那么', '多', '、', '那么', '早', '、', '那么', '好', '。']]\n",
            "[[(8, [('A0', 10, 10)]), (13, [('ARGM-ADV', 12, 12)]), (16, [('ARGM-ADV', 15, 15)]), (19, [('ARGM-ADV', 18, 18)])]]\n"
          ]
        }
      ]
    },
    {
      "cell_type": "code",
      "metadata": {
        "colab": {
          "base_uri": "https://localhost:8080/"
        },
        "id": "CRF8pbm4Qc-x",
        "outputId": "dd0bf893-916f-422b-affe-734cd3049169"
      },
      "source": [
        "srl_len = len(srl[0])\n",
        "\n",
        "\n",
        "for i in range(srl_len):\n",
        "  if srl[0][i][0] == root_num:\n",
        "    tuple_list = srl[0][i][1]\n",
        "\n",
        "num = len(tuple_list)\n",
        "\n",
        "for i in range(num):\n",
        "  if tuple_list[i][2] < root_num:\n",
        "    check_tag = tuple_list[i][0]\n",
        "  \n",
        "print(check_tag)"
      ],
      "execution_count": 16,
      "outputs": [
        {
          "output_type": "stream",
          "name": "stdout",
          "text": [
            "ARGM-ADV\n"
          ]
        }
      ]
    },
    {
      "cell_type": "markdown",
      "metadata": {
        "id": "bn94_y2BZ_lA"
      },
      "source": [
        "### 추가 테스트 문장 中国同时代的建筑往往远不如别的采用石结构的国家的那么多、那么早、那么好。\n",
        "\n",
        "[['中国', '同时代', '的', '建筑', '往往', '远', '不如', '别的', '采用石结构', '的', '国家', '的', '那么', '多', '、', '那么', '早', '、', '那么', '好', '。']]\n",
        "\n",
        "[(1, 4, 'FEAT'), (2, 4, 'FEAT'), (3, 2, 'mDEPD'), (4, 14, 'EXP'), (5, 6, 'mDEPD'), (6, 14, 'mDEPD'), (7, 6, 'mNEG'), (8, 11, 'FEAT'), (9, 11, 'rAGT'), (10, 9, 'mDEPD'), (11, 14, 'EXP'), (12, 11, 'mDEPD'), (13, 14, 'mDEPD'), (14, 0, 'Root'), (15, 14, 'mPUNC'), (16, 17, 'mDEPD'), (17, 14, 'eCOO'), (18, 17, 'mPUNC'), (19, 20, 'mDEPD'), (20, 17, 'eCOO'), (21, 20, 'mPUNC')]\n",
        "\n",
        "→ root_num = 13\n",
        "\n",
        "[[(8, [('A0', 10, 10)]), (13, [('ARGM-ADV', 12, 12)]), (16, [('ARGM-ADV', 15, 15)]), (19, [('ARGM-ADV', 18, 18)])]]\n",
        "\n",
        "→ check_tag = ARGM-ADV"
      ]
    }
  ]
}