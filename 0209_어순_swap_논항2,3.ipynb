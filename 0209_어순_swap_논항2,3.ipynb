{
  "nbformat": 4,
  "nbformat_minor": 0,
  "metadata": {
    "colab": {
      "name": "0209_어순_swap_논항2,3.ipynb",
      "provenance": [],
      "collapsed_sections": [],
      "toc_visible": true,
      "machine_shape": "hm"
    },
    "kernelspec": {
      "name": "python3",
      "display_name": "Python 3"
    },
    "language_info": {
      "name": "python"
    },
    "accelerator": "GPU"
  },
  "cells": [
    {
      "cell_type": "markdown",
      "source": [
        "# 파일 불러오기\n",
        "\n",
        "데이터 원본 파일을 불러와서 SENT에 해당하는 문장만 리스트로 변환합니다"
      ],
      "metadata": {
        "id": "CYotGh5hiNMY"
      }
    },
    {
      "cell_type": "code",
      "execution_count": null,
      "metadata": {
        "id": "4-6JzA5Uuykg"
      },
      "outputs": [],
      "source": [
        "import pandas as pd\n",
        "\n",
        "dataset = pd.read_excel('/content/data2.xlsx')\n",
        "dataset"
      ]
    },
    {
      "cell_type": "code",
      "source": [
        "sent = dataset['SENT']\n",
        "sent_list = sent.values.tolist()\n",
        "len(sent_list)"
      ],
      "metadata": {
        "id": "8FSdSoJYu6-u"
      },
      "execution_count": null,
      "outputs": []
    },
    {
      "cell_type": "markdown",
      "source": [
        "# 전처리\n",
        "\n",
        "콤마 앞, 뒤로 ## 태그 형식을 통일하고 이외에 불필요한 개행문자, 중복 쉼표 등을 1개의 쉼표로 바꿉니다\n",
        "\n",
        "더 필요한 전처리를 추가해주시면 됩니다"
      ],
      "metadata": {
        "id": "Nc2gCbj3iRep"
      }
    },
    {
      "cell_type": "code",
      "source": [
        "import re\n",
        "\n",
        "prep1 = []\n",
        "\n",
        "def prep_comma(data):\n",
        "  for i in data:\n",
        "    i = re.sub('##，##', '，##', i)\n",
        "    i = re.sub('##，', '，##', i)\n",
        "    i = re.sub('\\n', '，', i)\n",
        "    i = re.sub('，，', '，', i)\n",
        "    prep1.append(i)\n",
        "\n",
        "prep_comma(sent_list)"
      ],
      "metadata": {
        "id": "tbSLFScJ98uW"
      },
      "execution_count": 4,
      "outputs": []
    },
    {
      "cell_type": "markdown",
      "source": [
        "# 태그 기본 형식에 안 맞는 경우\n",
        "\n",
        "예시 문장 : ##这时/T##她/A##索性把自己的思想简单化了一下\n",
        "\n",
        "첫번째 chunk : ##这时/T\n",
        "\n",
        "두번째 chunk : ##她/A\n",
        "\n",
        "나머지 문장 : ##索性把自己的思想简单化了一下\n",
        "\n",
        "따라서, ## 태그와 의미역 태그 /대문자 의 차이는 1개가 되어야 합니다\n",
        "\n",
        "이 논리에 맞지 않는 경우와 의미역 태그가 아예 없거나 ##이 없는 경우 모두 wrong_list에 저장합니다"
      ],
      "metadata": {
        "id": "mhFuE6gajai_"
      }
    },
    {
      "cell_type": "code",
      "source": [
        "wrong_list = []\n",
        "wrong_idx = []\n",
        "\n",
        "for i in prep1:\n",
        "  if i.count('##') - i.count('/') != 1 or i.count('/') == 0 or i.count('##') == 0 :\n",
        "    if i.count('[a-zA-Z]') - i.count('/') != 0:\n",
        "      wrong_list.append(i)\n",
        "      wrong_idx.append(prep1.index(i))\n",
        "\n",
        "import pandas as pd\n",
        "\n",
        "df = pd.DataFrame({\"Index\" : wrong_idx, \"Sentence\" : wrong_list})\n",
        "df"
      ],
      "metadata": {
        "id": "dr9fZlF9-CZX"
      },
      "execution_count": null,
      "outputs": []
    },
    {
      "cell_type": "code",
      "source": [
        "path = '/content/'\n",
        "df.to_csv(path + \"data2_검토필요.csv\", encoding=\"utf-8-sig\", index=False)"
      ],
      "metadata": {
        "id": "-099SnCp_uy0"
      },
      "execution_count": 18,
      "outputs": []
    },
    {
      "cell_type": "markdown",
      "source": [
        "# 논항 2개 swap\n",
        "\n",
        "First    :  ##小时候/T\n",
        "\n",
        "Second   :  ##他/A\n",
        "\n",
        "Original :  ##小时候/T，##他/A##也曾跟父母到过上海的梯梯斯、百乐门和法国夜总会，现在应该像是旧地重游\n",
        "\n",
        "Changed  :  ##他/A，##小时候/T##也曾跟父母到过上海的梯梯斯、百乐门和法国夜总会，现在应该像是旧地重游\n",
        "\n",
        "위와 같이, 원문장에서 2개의 의미역 덩어리를 추출해서 서로 swap 하는 코드입니다."
      ],
      "metadata": {
        "id": "XZ-rlGH-kry0"
      }
    },
    {
      "cell_type": "code",
      "source": [
        "ck1 = []\n",
        "args2 = []\n",
        "args2_idx = []\n",
        "original = []\n",
        "first_elem = []\n",
        "second_elem = []\n",
        "args2_swap = []\n",
        "\n",
        "for i in prep1:\n",
        "  if i.count('/') == 2:\n",
        "    if i.count('##') == 3:\n",
        "      if len(re.findall('[a-zA-Z]', i)) == 2:\n",
        "        #print(i)\n",
        "        args2.append(i)\n",
        "        args2_idx.append(prep1.index(i))\n",
        "      else:\n",
        "        ck1.append(i)\n",
        "\n",
        "for i in args2:\n",
        "  if '/' in i:\n",
        "    sharp1 = i.index('##') \n",
        "    first = re.search('[a-zA-Z]', i)\n",
        "    mean1 = i.index(first.group())\n",
        "    remain = str(i[mean1 + 1:])\n",
        "    elem1 = i[sharp1:mean1 + 1]      \n",
        "    print(\"\\nFirst    : \", elem1)\n",
        "    \n",
        "  if '/' in remain:\n",
        "    sharp2 = remain.index('##')\n",
        "    second = re.search('[a-zA-Z]', remain)\n",
        "    mean2 = remain.index(second.group())\n",
        "    remain2 = str(remain[mean2 + 1:])\n",
        "    elem2 = remain[sharp2:mean2 + 1]\n",
        "    data1 = i.replace(elem1, '@').replace(elem2, elem1).replace('@', elem2) # ba       \n",
        "    print(\"Second   : \", elem2)\n",
        "    print(\"Original : \", i)\n",
        "    print(\"Changed  : \", data1) \n",
        "    original.append(i)\n",
        "    first_elem.append(elem1)\n",
        "    second_elem.append(elem2)\n",
        "    args2_swap.append(data1)"
      ],
      "metadata": {
        "id": "civtGh6ivXOf"
      },
      "execution_count": null,
      "outputs": []
    },
    {
      "cell_type": "markdown",
      "source": [
        "# 논항 2개 swap 결과 저장"
      ],
      "metadata": {
        "id": "WeUycHL6lvwb"
      }
    },
    {
      "cell_type": "code",
      "source": [
        "import pandas as pd\n",
        "df = pd.DataFrame({\"Index\" : args2_idx, \"Original\" : args2, \"Swapped\" : args2_swap})\n",
        "df"
      ],
      "metadata": {
        "id": "XfKw5yiNQb9-"
      },
      "execution_count": null,
      "outputs": []
    },
    {
      "cell_type": "code",
      "source": [
        "path = '/content/'\n",
        "df.to_csv(path + \"data2_mean2_tag2.csv\", encoding=\"utf-8-sig\", index=False)"
      ],
      "metadata": {
        "id": "_G8O4UXDArXj"
      },
      "execution_count": null,
      "outputs": []
    },
    {
      "cell_type": "markdown",
      "source": [
        "# 논항 3개 swap\n",
        "\n",
        "First    :  ##这时/T\n",
        "\n",
        "Second   :  ##柳清/E\n",
        "\n",
        "Third   :  ##心里/E\n",
        "\n",
        "Original :  ##这时/T##柳清/E##心里/E##特别沉重\n",
        "\n",
        "Changed  : \n",
        " ##这时/T##心里/E##柳清/E##特别沉重 \n",
        " ##柳清/E##这时/T##心里/E##特别沉重 \n",
        " ##柳清/E##心里/E##这时/T##特别沉重 \n",
        " ##心里/E##这时/T##柳清/E##特别沉重 \n",
        " ##心里/E##柳清/E##这时/T##特别沉重\n",
        "\n",
        " 위와 같이, 원문장에서 3개의 의미역 덩어리를 추출해 swap 하는 코드입니다."
      ],
      "metadata": {
        "id": "vYiQYa6Cl1Gf"
      }
    },
    {
      "cell_type": "code",
      "source": [
        "ck2 = []\n",
        "args3 = []\n",
        "args3_idx = []\n",
        "args3_original = []\n",
        "args3_first = []\n",
        "args3_second = []\n",
        "args3_third = []\n",
        "args3_swap = []\n",
        "args3_wrong = []\n",
        "\n",
        "for i in prep1:\n",
        "  if i.count('/') == 3:\n",
        "    if i.count('##') == 4:\n",
        "      if len(re.findall('[a-zA-Z]', i)) == 3:\n",
        "        #print(i)\n",
        "        args3.append(i)\n",
        "        args3_idx.append(prep1.index(i))\n",
        "      else:\n",
        "        ck2.append(i)\n",
        "\n",
        "for i in args3:\n",
        "  if '/' in i:\n",
        "    sharp1 = i.index('##') \n",
        "    first = re.search('[a-zA-Z]', i)\n",
        "    mean1 = i.index(first.group())\n",
        "    remain = str(i[mean1 + 1:])\n",
        "    elem1 = i[sharp1:mean1 + 1]      \n",
        "    print(\"\\nFirst    : \", elem1)\n",
        "    \n",
        "  if '/' in remain:\n",
        "    sharp2 = remain.index('##')\n",
        "    second = re.search('[a-zA-Z]', remain)\n",
        "    mean2 = remain.index(second.group())\n",
        "    remain2 = str(remain[mean2 + 1:])\n",
        "    elem2 = remain[sharp2:mean2 + 1]\n",
        "    data1 = i.replace(elem1, '@').replace(elem2, elem1).replace('@', elem2) # ba       \n",
        "    print(\"Second   : \", elem2)\n",
        "    \n",
        "  if '/' in remain2:\n",
        "    sharp3_num = remain2.index('##')\n",
        "    third = re.search('[a-zA-Z]', remain2)\n",
        "    mean3_num = remain2.index(third.group())\n",
        "    remain3 = str(remain2[mean3_num + 1:])\n",
        "    elem3 = remain2[sharp3_num:mean3_num + 1]\n",
        "    data2_1 = i.replace(elem2, '@').replace(elem3, elem2).replace('@', elem3) #acb\n",
        "    data2_2 = i.replace(elem1, '@').replace(elem2, elem1).replace('@', elem2) #bac\n",
        "    data2_3 = i.replace(elem2, '@').replace(elem1, elem2).replace(elem3, elem1).replace('@', elem3) #bca\n",
        "    data2_4 = i.replace(elem2, '@').replace(elem3, elem2).replace(elem1, elem3).replace('@', elem1) #cab\n",
        "    data2_5 = i.replace(elem1, '@').replace(elem3, elem1).replace('@', elem3) #cba        \n",
        "    print(\"Third   : \", elem3)\n",
        "    print(\"Original : \", i)\n",
        "    print(\"Changed  : \\n\", data2_1, \"\\n\" ,data2_2, \"\\n\", data2_3, \"\\n\", data2_4, \"\\n\", data2_5)\n",
        "    args3_original.append(i)\n",
        "    args3_first.append(elem1)\n",
        "    args3_second.append(elem2)\n",
        "    args3_third.append(elem3)\n",
        "    args3_swap.append(data2_1 + \"\\n\" + data2_2 + \"\\n\" + data2_3 + \"\\n\" + data2_4 + \"\\n\" + data2_5) "
      ],
      "metadata": {
        "id": "9mq2gM_0AVaS"
      },
      "execution_count": null,
      "outputs": []
    },
    {
      "cell_type": "markdown",
      "source": [
        "# 논항 3개 swap 결과 저장"
      ],
      "metadata": {
        "id": "fY9BEzRmmbhv"
      }
    },
    {
      "cell_type": "code",
      "source": [
        "import pandas as pd\n",
        "df = pd.DataFrame({\"Index\" : args3_idx, \"Original\" : args3, \"Swapped\" : args3_swap})\n",
        "df"
      ],
      "metadata": {
        "id": "sj4_giEg5jyc"
      },
      "execution_count": null,
      "outputs": []
    },
    {
      "cell_type": "code",
      "source": [
        "path = '/content/'\n",
        "df.to_csv(path + \"data2_mean3_tag3.csv\", encoding=\"utf-8-sig\", index=False)"
      ],
      "metadata": {
        "id": "NzXWJgXk5s49"
      },
      "execution_count": null,
      "outputs": []
    }
  ]
}