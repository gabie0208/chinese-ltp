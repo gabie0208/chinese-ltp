{
  "nbformat": 4,
  "nbformat_minor": 0,
  "metadata": {
    "colab": {
      "name": "语义依存关系.ipynb",
      "provenance": []
    },
    "kernelspec": {
      "name": "python3",
      "display_name": "Python 3"
    },
    "language_info": {
      "name": "python"
    },
    "widgets": {
      "application/vnd.jupyter.widget-state+json": {
        "ea9db4e4440e4b2b8bf4084bf1c58e57": {
          "model_module": "@jupyter-widgets/controls",
          "model_name": "HBoxModel",
          "model_module_version": "1.5.0",
          "state": {
            "_view_name": "HBoxView",
            "_dom_classes": [],
            "_model_name": "HBoxModel",
            "_view_module": "@jupyter-widgets/controls",
            "_model_module_version": "1.5.0",
            "_view_count": null,
            "_view_module_version": "1.5.0",
            "box_style": "",
            "layout": "IPY_MODEL_b4de10c5f20c4553bcee5305f3b85879",
            "_model_module": "@jupyter-widgets/controls",
            "children": [
              "IPY_MODEL_c4036acbb761443ea48ea6ce5069fc64",
              "IPY_MODEL_3f35f485f8bc4033ba0e403cae7f2b90",
              "IPY_MODEL_3ce3219ff10d49d287365c4893e9182e"
            ]
          }
        },
        "b4de10c5f20c4553bcee5305f3b85879": {
          "model_module": "@jupyter-widgets/base",
          "model_name": "LayoutModel",
          "model_module_version": "1.2.0",
          "state": {
            "_view_name": "LayoutView",
            "grid_template_rows": null,
            "right": null,
            "justify_content": null,
            "_view_module": "@jupyter-widgets/base",
            "overflow": null,
            "_model_module_version": "1.2.0",
            "_view_count": null,
            "flex_flow": null,
            "width": null,
            "min_width": null,
            "border": null,
            "align_items": null,
            "bottom": null,
            "_model_module": "@jupyter-widgets/base",
            "top": null,
            "grid_column": null,
            "overflow_y": null,
            "overflow_x": null,
            "grid_auto_flow": null,
            "grid_area": null,
            "grid_template_columns": null,
            "flex": null,
            "_model_name": "LayoutModel",
            "justify_items": null,
            "grid_row": null,
            "max_height": null,
            "align_content": null,
            "visibility": null,
            "align_self": null,
            "height": null,
            "min_height": null,
            "padding": null,
            "grid_auto_rows": null,
            "grid_gap": null,
            "max_width": null,
            "order": null,
            "_view_module_version": "1.2.0",
            "grid_template_areas": null,
            "object_position": null,
            "object_fit": null,
            "grid_auto_columns": null,
            "margin": null,
            "display": null,
            "left": null
          }
        },
        "c4036acbb761443ea48ea6ce5069fc64": {
          "model_module": "@jupyter-widgets/controls",
          "model_name": "HTMLModel",
          "model_module_version": "1.5.0",
          "state": {
            "_view_name": "HTMLView",
            "style": "IPY_MODEL_6ddd83bf10994f49a06459e57597e7db",
            "_dom_classes": [],
            "description": "",
            "_model_name": "HTMLModel",
            "placeholder": "​",
            "_view_module": "@jupyter-widgets/controls",
            "_model_module_version": "1.5.0",
            "value": "Downloading: 100%",
            "_view_count": null,
            "_view_module_version": "1.5.0",
            "description_tooltip": null,
            "_model_module": "@jupyter-widgets/controls",
            "layout": "IPY_MODEL_68b504f734064917a733c1103732cc34"
          }
        },
        "3f35f485f8bc4033ba0e403cae7f2b90": {
          "model_module": "@jupyter-widgets/controls",
          "model_name": "FloatProgressModel",
          "model_module_version": "1.5.0",
          "state": {
            "_view_name": "ProgressView",
            "style": "IPY_MODEL_b2bbd880cb1e4cb691c28a60adce1637",
            "_dom_classes": [],
            "description": "",
            "_model_name": "FloatProgressModel",
            "bar_style": "success",
            "max": 164437832,
            "_view_module": "@jupyter-widgets/controls",
            "_model_module_version": "1.5.0",
            "value": 164437832,
            "_view_count": null,
            "_view_module_version": "1.5.0",
            "orientation": "horizontal",
            "min": 0,
            "description_tooltip": null,
            "_model_module": "@jupyter-widgets/controls",
            "layout": "IPY_MODEL_732e3ad6305147ebb373aec21e2d4c27"
          }
        },
        "3ce3219ff10d49d287365c4893e9182e": {
          "model_module": "@jupyter-widgets/controls",
          "model_name": "HTMLModel",
          "model_module_version": "1.5.0",
          "state": {
            "_view_name": "HTMLView",
            "style": "IPY_MODEL_4c01034cc75044fbac2a888ada875b51",
            "_dom_classes": [],
            "description": "",
            "_model_name": "HTMLModel",
            "placeholder": "​",
            "_view_module": "@jupyter-widgets/controls",
            "_model_module_version": "1.5.0",
            "value": " 164M/164M [01:58&lt;00:00, 1.56MB/s]",
            "_view_count": null,
            "_view_module_version": "1.5.0",
            "description_tooltip": null,
            "_model_module": "@jupyter-widgets/controls",
            "layout": "IPY_MODEL_d60c993d1eff4c5fba69c4068f386bb4"
          }
        },
        "6ddd83bf10994f49a06459e57597e7db": {
          "model_module": "@jupyter-widgets/controls",
          "model_name": "DescriptionStyleModel",
          "model_module_version": "1.5.0",
          "state": {
            "_view_name": "StyleView",
            "_model_name": "DescriptionStyleModel",
            "description_width": "",
            "_view_module": "@jupyter-widgets/base",
            "_model_module_version": "1.5.0",
            "_view_count": null,
            "_view_module_version": "1.2.0",
            "_model_module": "@jupyter-widgets/controls"
          }
        },
        "68b504f734064917a733c1103732cc34": {
          "model_module": "@jupyter-widgets/base",
          "model_name": "LayoutModel",
          "model_module_version": "1.2.0",
          "state": {
            "_view_name": "LayoutView",
            "grid_template_rows": null,
            "right": null,
            "justify_content": null,
            "_view_module": "@jupyter-widgets/base",
            "overflow": null,
            "_model_module_version": "1.2.0",
            "_view_count": null,
            "flex_flow": null,
            "width": null,
            "min_width": null,
            "border": null,
            "align_items": null,
            "bottom": null,
            "_model_module": "@jupyter-widgets/base",
            "top": null,
            "grid_column": null,
            "overflow_y": null,
            "overflow_x": null,
            "grid_auto_flow": null,
            "grid_area": null,
            "grid_template_columns": null,
            "flex": null,
            "_model_name": "LayoutModel",
            "justify_items": null,
            "grid_row": null,
            "max_height": null,
            "align_content": null,
            "visibility": null,
            "align_self": null,
            "height": null,
            "min_height": null,
            "padding": null,
            "grid_auto_rows": null,
            "grid_gap": null,
            "max_width": null,
            "order": null,
            "_view_module_version": "1.2.0",
            "grid_template_areas": null,
            "object_position": null,
            "object_fit": null,
            "grid_auto_columns": null,
            "margin": null,
            "display": null,
            "left": null
          }
        },
        "b2bbd880cb1e4cb691c28a60adce1637": {
          "model_module": "@jupyter-widgets/controls",
          "model_name": "ProgressStyleModel",
          "model_module_version": "1.5.0",
          "state": {
            "_view_name": "StyleView",
            "_model_name": "ProgressStyleModel",
            "description_width": "",
            "_view_module": "@jupyter-widgets/base",
            "_model_module_version": "1.5.0",
            "_view_count": null,
            "_view_module_version": "1.2.0",
            "bar_color": null,
            "_model_module": "@jupyter-widgets/controls"
          }
        },
        "732e3ad6305147ebb373aec21e2d4c27": {
          "model_module": "@jupyter-widgets/base",
          "model_name": "LayoutModel",
          "model_module_version": "1.2.0",
          "state": {
            "_view_name": "LayoutView",
            "grid_template_rows": null,
            "right": null,
            "justify_content": null,
            "_view_module": "@jupyter-widgets/base",
            "overflow": null,
            "_model_module_version": "1.2.0",
            "_view_count": null,
            "flex_flow": null,
            "width": null,
            "min_width": null,
            "border": null,
            "align_items": null,
            "bottom": null,
            "_model_module": "@jupyter-widgets/base",
            "top": null,
            "grid_column": null,
            "overflow_y": null,
            "overflow_x": null,
            "grid_auto_flow": null,
            "grid_area": null,
            "grid_template_columns": null,
            "flex": null,
            "_model_name": "LayoutModel",
            "justify_items": null,
            "grid_row": null,
            "max_height": null,
            "align_content": null,
            "visibility": null,
            "align_self": null,
            "height": null,
            "min_height": null,
            "padding": null,
            "grid_auto_rows": null,
            "grid_gap": null,
            "max_width": null,
            "order": null,
            "_view_module_version": "1.2.0",
            "grid_template_areas": null,
            "object_position": null,
            "object_fit": null,
            "grid_auto_columns": null,
            "margin": null,
            "display": null,
            "left": null
          }
        },
        "4c01034cc75044fbac2a888ada875b51": {
          "model_module": "@jupyter-widgets/controls",
          "model_name": "DescriptionStyleModel",
          "model_module_version": "1.5.0",
          "state": {
            "_view_name": "StyleView",
            "_model_name": "DescriptionStyleModel",
            "description_width": "",
            "_view_module": "@jupyter-widgets/base",
            "_model_module_version": "1.5.0",
            "_view_count": null,
            "_view_module_version": "1.2.0",
            "_model_module": "@jupyter-widgets/controls"
          }
        },
        "d60c993d1eff4c5fba69c4068f386bb4": {
          "model_module": "@jupyter-widgets/base",
          "model_name": "LayoutModel",
          "model_module_version": "1.2.0",
          "state": {
            "_view_name": "LayoutView",
            "grid_template_rows": null,
            "right": null,
            "justify_content": null,
            "_view_module": "@jupyter-widgets/base",
            "overflow": null,
            "_model_module_version": "1.2.0",
            "_view_count": null,
            "flex_flow": null,
            "width": null,
            "min_width": null,
            "border": null,
            "align_items": null,
            "bottom": null,
            "_model_module": "@jupyter-widgets/base",
            "top": null,
            "grid_column": null,
            "overflow_y": null,
            "overflow_x": null,
            "grid_auto_flow": null,
            "grid_area": null,
            "grid_template_columns": null,
            "flex": null,
            "_model_name": "LayoutModel",
            "justify_items": null,
            "grid_row": null,
            "max_height": null,
            "align_content": null,
            "visibility": null,
            "align_self": null,
            "height": null,
            "min_height": null,
            "padding": null,
            "grid_auto_rows": null,
            "grid_gap": null,
            "max_width": null,
            "order": null,
            "_view_module_version": "1.2.0",
            "grid_template_areas": null,
            "object_position": null,
            "object_fit": null,
            "grid_auto_columns": null,
            "margin": null,
            "display": null,
            "left": null
          }
        }
      }
    }
  },
  "cells": [
    {
      "cell_type": "code",
      "metadata": {
        "colab": {
          "base_uri": "https://localhost:8080/",
          "height": 797,
          "referenced_widgets": [
            "ea9db4e4440e4b2b8bf4084bf1c58e57",
            "b4de10c5f20c4553bcee5305f3b85879",
            "c4036acbb761443ea48ea6ce5069fc64",
            "3f35f485f8bc4033ba0e403cae7f2b90",
            "3ce3219ff10d49d287365c4893e9182e",
            "6ddd83bf10994f49a06459e57597e7db",
            "68b504f734064917a733c1103732cc34",
            "b2bbd880cb1e4cb691c28a60adce1637",
            "732e3ad6305147ebb373aec21e2d4c27",
            "4c01034cc75044fbac2a888ada875b51",
            "d60c993d1eff4c5fba69c4068f386bb4"
          ]
        },
        "id": "HgFLqfUIqSQ2",
        "outputId": "efabca0e-7f43-422b-deca-8b66a6dd60d7"
      },
      "source": [
        "!pip install ltp\n",
        "\n",
        "from ltp import LTP\n",
        "\n",
        "ltp = LTP()"
      ],
      "execution_count": 1,
      "outputs": [
        {
          "output_type": "stream",
          "name": "stdout",
          "text": [
            "Collecting ltp\n",
            "  Downloading ltp-4.1.5.post2-py3-none-any.whl (94 kB)\n",
            "\u001b[K     |████████████████████████████████| 94 kB 1.3 MB/s \n",
            "\u001b[?25hCollecting pygtrie<2.5,>=2.3.0\n",
            "  Downloading pygtrie-2.4.2.tar.gz (35 kB)\n",
            "Requirement already satisfied: packaging>=20.0 in /usr/local/lib/python3.7/dist-packages (from ltp) (21.0)\n",
            "Collecting transformers<=4.7.0,>=4.0.0\n",
            "  Downloading transformers-4.7.0-py3-none-any.whl (2.5 MB)\n",
            "\u001b[K     |████████████████████████████████| 2.5 MB 38.6 MB/s \n",
            "\u001b[?25hRequirement already satisfied: torch>=1.2.0 in /usr/local/lib/python3.7/dist-packages (from ltp) (1.9.0+cu102)\n",
            "Requirement already satisfied: pyparsing>=2.0.2 in /usr/local/lib/python3.7/dist-packages (from packaging>=20.0->ltp) (2.4.7)\n",
            "Requirement already satisfied: typing-extensions in /usr/local/lib/python3.7/dist-packages (from torch>=1.2.0->ltp) (3.7.4.3)\n",
            "Requirement already satisfied: requests in /usr/local/lib/python3.7/dist-packages (from transformers<=4.7.0,>=4.0.0->ltp) (2.23.0)\n",
            "Collecting tokenizers<0.11,>=0.10.1\n",
            "  Downloading tokenizers-0.10.3-cp37-cp37m-manylinux_2_5_x86_64.manylinux1_x86_64.manylinux_2_12_x86_64.manylinux2010_x86_64.whl (3.3 MB)\n",
            "\u001b[K     |████████████████████████████████| 3.3 MB 26.7 MB/s \n",
            "\u001b[?25hRequirement already satisfied: regex!=2019.12.17 in /usr/local/lib/python3.7/dist-packages (from transformers<=4.7.0,>=4.0.0->ltp) (2019.12.20)\n",
            "Collecting sacremoses\n",
            "  Downloading sacremoses-0.0.46-py3-none-any.whl (895 kB)\n",
            "\u001b[K     |████████████████████████████████| 895 kB 56.3 MB/s \n",
            "\u001b[?25hRequirement already satisfied: tqdm>=4.27 in /usr/local/lib/python3.7/dist-packages (from transformers<=4.7.0,>=4.0.0->ltp) (4.62.2)\n",
            "Requirement already satisfied: importlib-metadata in /usr/local/lib/python3.7/dist-packages (from transformers<=4.7.0,>=4.0.0->ltp) (4.8.1)\n",
            "Requirement already satisfied: filelock in /usr/local/lib/python3.7/dist-packages (from transformers<=4.7.0,>=4.0.0->ltp) (3.0.12)\n",
            "Collecting huggingface-hub==0.0.8\n",
            "  Downloading huggingface_hub-0.0.8-py3-none-any.whl (34 kB)\n",
            "Requirement already satisfied: pyyaml in /usr/local/lib/python3.7/dist-packages (from transformers<=4.7.0,>=4.0.0->ltp) (3.13)\n",
            "Requirement already satisfied: numpy>=1.17 in /usr/local/lib/python3.7/dist-packages (from transformers<=4.7.0,>=4.0.0->ltp) (1.19.5)\n",
            "Requirement already satisfied: zipp>=0.5 in /usr/local/lib/python3.7/dist-packages (from importlib-metadata->transformers<=4.7.0,>=4.0.0->ltp) (3.5.0)\n",
            "Requirement already satisfied: chardet<4,>=3.0.2 in /usr/local/lib/python3.7/dist-packages (from requests->transformers<=4.7.0,>=4.0.0->ltp) (3.0.4)\n",
            "Requirement already satisfied: idna<3,>=2.5 in /usr/local/lib/python3.7/dist-packages (from requests->transformers<=4.7.0,>=4.0.0->ltp) (2.10)\n",
            "Requirement already satisfied: certifi>=2017.4.17 in /usr/local/lib/python3.7/dist-packages (from requests->transformers<=4.7.0,>=4.0.0->ltp) (2021.5.30)\n",
            "Requirement already satisfied: urllib3!=1.25.0,!=1.25.1,<1.26,>=1.21.1 in /usr/local/lib/python3.7/dist-packages (from requests->transformers<=4.7.0,>=4.0.0->ltp) (1.24.3)\n",
            "Requirement already satisfied: click in /usr/local/lib/python3.7/dist-packages (from sacremoses->transformers<=4.7.0,>=4.0.0->ltp) (7.1.2)\n",
            "Requirement already satisfied: joblib in /usr/local/lib/python3.7/dist-packages (from sacremoses->transformers<=4.7.0,>=4.0.0->ltp) (1.0.1)\n",
            "Requirement already satisfied: six in /usr/local/lib/python3.7/dist-packages (from sacremoses->transformers<=4.7.0,>=4.0.0->ltp) (1.15.0)\n",
            "Building wheels for collected packages: pygtrie\n",
            "  Building wheel for pygtrie (setup.py) ... \u001b[?25l\u001b[?25hdone\n",
            "  Created wheel for pygtrie: filename=pygtrie-2.4.2-py3-none-any.whl size=19062 sha256=9d0f25c5ec7732ad828ce62ce00f45e030c479c6331425ae6e1a73186428cdac\n",
            "  Stored in directory: /root/.cache/pip/wheels/d3/f8/ba/1d828b1603ea422686eb694253a43cb3a5901ea4696c1e0603\n",
            "Successfully built pygtrie\n",
            "Installing collected packages: tokenizers, sacremoses, huggingface-hub, transformers, pygtrie, ltp\n",
            "Successfully installed huggingface-hub-0.0.8 ltp-4.1.5.post2 pygtrie-2.4.2 sacremoses-0.0.46 tokenizers-0.10.3 transformers-4.7.0\n"
          ]
        },
        {
          "output_type": "display_data",
          "data": {
            "application/vnd.jupyter.widget-view+json": {
              "model_id": "ea9db4e4440e4b2b8bf4084bf1c58e57",
              "version_minor": 0,
              "version_major": 2
            },
            "text/plain": [
              "Downloading:   0%|          | 0.00/164M [00:00<?, ?B/s]"
            ]
          },
          "metadata": {}
        }
      ]
    },
    {
      "cell_type": "code",
      "metadata": {
        "id": "ZIP6I694qxZ3"
      },
      "source": [
        ""
      ],
      "execution_count": null,
      "outputs": []
    },
    {
      "cell_type": "markdown",
      "metadata": {
        "id": "AI8qGG7krFM9"
      },
      "source": [
        "# 语义周边角色\n"
      ]
    },
    {
      "cell_type": "markdown",
      "metadata": {
        "id": "8pijzQ0CrV6w"
      },
      "source": [
        "## 主体 角色 (AGT, EXP)"
      ]
    },
    {
      "cell_type": "code",
      "metadata": {
        "colab": {
          "base_uri": "https://localhost:8080/"
        },
        "id": "S6XSrklXr5UI",
        "outputId": "988391cb-a564-481b-eb44-a76aa9bb3360"
      },
      "source": [
        "seg, hidden = ltp.seg([\"明天我将去看他。\"])\n",
        "print(seg)\n",
        "sdp = ltp.sdp(hidden, mode='tree')\n",
        "sdp"
      ],
      "execution_count": 4,
      "outputs": [
        {
          "output_type": "stream",
          "name": "stdout",
          "text": [
            "[['明天', '我', '将', '去', '看', '他', '。']]\n"
          ]
        },
        {
          "output_type": "execute_result",
          "data": {
            "text/plain": [
              "[[(1, 4, 'TIME'),\n",
              "  (2, 4, 'AGT'),\n",
              "  (3, 4, 'mDEPD'),\n",
              "  (4, 0, 'Root'),\n",
              "  (5, 4, 'eSUCC'),\n",
              "  (6, 5, 'DATV'),\n",
              "  (7, 5, 'mPUNC')]]"
            ]
          },
          "metadata": {},
          "execution_count": 4
        }
      ]
    },
    {
      "cell_type": "code",
      "metadata": {
        "colab": {
          "base_uri": "https://localhost:8080/"
        },
        "id": "0bUgfAdvr5KQ",
        "outputId": "0a5da5f4-07e8-4f95-ab34-81867f19eaef"
      },
      "source": [
        "seg, hidden = ltp.seg([\"宝塔很高。\"])\n",
        "print(seg)\n",
        "sdp = ltp.sdp(hidden, mode='tree')\n",
        "sdp"
      ],
      "execution_count": 5,
      "outputs": [
        {
          "output_type": "stream",
          "name": "stdout",
          "text": [
            "[['宝塔', '很', '高', '。']]\n"
          ]
        },
        {
          "output_type": "execute_result",
          "data": {
            "text/plain": [
              "[[(1, 3, 'EXP'), (2, 3, 'mDEPD'), (3, 0, 'Root'), (4, 3, 'mPUNC')]]"
            ]
          },
          "metadata": {},
          "execution_count": 5
        }
      ]
    },
    {
      "cell_type": "markdown",
      "metadata": {
        "id": "1uhoPLGyrZmM"
      },
      "source": [
        "## 客体 角色 (PAT, CONT, DATV, LINK)"
      ]
    },
    {
      "cell_type": "code",
      "metadata": {
        "colab": {
          "base_uri": "https://localhost:8080/"
        },
        "id": "OPGo39iSr46S",
        "outputId": "e7c450c5-9d7d-406c-fb8a-73af88a61fc7"
      },
      "source": [
        "seg, hidden = ltp.seg([\"从桌子上把书拿走。\"])\n",
        "print(seg)\n",
        "sdp = ltp.sdp(hidden, mode='tree')\n",
        "sdp"
      ],
      "execution_count": 6,
      "outputs": [
        {
          "output_type": "stream",
          "name": "stdout",
          "text": [
            "[['从', '桌子', '上', '把', '书', '拿走', '。']]\n"
          ]
        },
        {
          "output_type": "execute_result",
          "data": {
            "text/plain": [
              "[[(1, 2, 'mRELA'),\n",
              "  (2, 6, 'LOC'),\n",
              "  (3, 2, 'mDEPD'),\n",
              "  (4, 5, 'mRELA'),\n",
              "  (5, 6, 'PAT'),\n",
              "  (6, 0, 'Root'),\n",
              "  (7, 6, 'mPUNC')]]"
            ]
          },
          "metadata": {},
          "execution_count": 6
        }
      ]
    },
    {
      "cell_type": "code",
      "metadata": {
        "colab": {
          "base_uri": "https://localhost:8080/"
        },
        "id": "YZ0C1hAOsvkt",
        "outputId": "8c92cdbc-8ba2-4829-f2e0-f8a251c191f9"
      },
      "source": [
        "seg, hidden = ltp.seg([\"我相信苏珊的话。\"])\n",
        "print(seg)\n",
        "sdp = ltp.sdp(hidden, mode='tree')\n",
        "sdp"
      ],
      "execution_count": 10,
      "outputs": [
        {
          "output_type": "stream",
          "name": "stdout",
          "text": [
            "[['我', '相信', '苏珊', '的话', '。']]\n"
          ]
        },
        {
          "output_type": "execute_result",
          "data": {
            "text/plain": [
              "[[(1, 2, 'AGT'),\n",
              "  (2, 0, 'Root'),\n",
              "  (3, 2, 'CONT'),\n",
              "  (4, 3, 'mDEPD'),\n",
              "  (5, 2, 'mPUNC')]]"
            ]
          },
          "metadata": {},
          "execution_count": 10
        }
      ]
    },
    {
      "cell_type": "code",
      "metadata": {
        "colab": {
          "base_uri": "https://localhost:8080/"
        },
        "id": "uvV0QBBjswwp",
        "outputId": "d34e1883-4080-4416-8fc6-3a1161e835a0"
      },
      "source": [
        "seg, hidden = ltp.seg([\"班长给他一套工具。\"])\n",
        "print(seg)\n",
        "sdp = ltp.sdp(hidden, mode='tree')\n",
        "sdp"
      ],
      "execution_count": 11,
      "outputs": [
        {
          "output_type": "stream",
          "name": "stdout",
          "text": [
            "[['班长', '给', '他', '一', '套', '工具', '。']]\n"
          ]
        },
        {
          "output_type": "execute_result",
          "data": {
            "text/plain": [
              "[[(1, 2, 'AGT'),\n",
              "  (2, 0, 'Root'),\n",
              "  (3, 2, 'DATV'),\n",
              "  (4, 5, 'MEAS'),\n",
              "  (5, 6, 'MEAS'),\n",
              "  (6, 2, 'PAT'),\n",
              "  (7, 2, 'mPUNC')]]"
            ]
          },
          "metadata": {},
          "execution_count": 11
        }
      ]
    },
    {
      "cell_type": "code",
      "metadata": {
        "colab": {
          "base_uri": "https://localhost:8080/"
        },
        "id": "5dLaHW7Vswsa",
        "outputId": "a5fbb440-4240-41fb-eac0-456a1d3f8169"
      },
      "source": [
        "seg, hidden = ltp.seg([\"弟弟是中学生。\"])\n",
        "print(seg)\n",
        "sdp = ltp.sdp(hidden, mode='tree')\n",
        "sdp"
      ],
      "execution_count": 9,
      "outputs": [
        {
          "output_type": "stream",
          "name": "stdout",
          "text": [
            "[['弟弟', '是', '中学生', '。']]\n"
          ]
        },
        {
          "output_type": "execute_result",
          "data": {
            "text/plain": [
              "[[(1, 2, 'EXP'), (2, 0, 'Root'), (3, 2, 'LINK'), (4, 2, 'mPUNC')]]"
            ]
          },
          "metadata": {},
          "execution_count": 9
        }
      ]
    },
    {
      "cell_type": "markdown",
      "metadata": {
        "id": "XKTeWNbWrfNW"
      },
      "source": [
        "## 情境 角色 (TOOL, MATL, SCO, REAS, TIME, LOC, MEAS, STAT, FEAT)"
      ]
    },
    {
      "cell_type": "code",
      "metadata": {
        "colab": {
          "base_uri": "https://localhost:8080/"
        },
        "id": "6S0PZDXqrI4K",
        "outputId": "a70c7a0c-6af1-425c-8601-1ddad6617f64"
      },
      "source": [
        "seg, hidden = ltp.seg([\"妈妈用砂锅熬稀饭。\"])\n",
        "print(seg)\n",
        "sdp = ltp.sdp(hidden, mode='tree')\n",
        "sdp"
      ],
      "execution_count": 12,
      "outputs": [
        {
          "output_type": "stream",
          "name": "stdout",
          "text": [
            "[['妈妈', '用', '砂锅', '熬稀饭', '。']]\n"
          ]
        },
        {
          "output_type": "execute_result",
          "data": {
            "text/plain": [
              "[[(1, 4, 'AGT'),\n",
              "  (2, 3, 'mRELA'),\n",
              "  (3, 4, 'TOOL'),\n",
              "  (4, 0, 'Root'),\n",
              "  (5, 4, 'mPUNC')]]"
            ]
          },
          "metadata": {},
          "execution_count": 12
        }
      ]
    },
    {
      "cell_type": "code",
      "metadata": {
        "colab": {
          "base_uri": "https://localhost:8080/"
        },
        "id": "2SpyciqotfSf",
        "outputId": "e93c8fcc-e9ca-45da-c5c0-a7a122491f35"
      },
      "source": [
        "seg, hidden = ltp.seg([\"学生们用纸折飞机。\"])\n",
        "print(seg)\n",
        "sdp = ltp.sdp(hidden, mode='tree')\n",
        "sdp"
      ],
      "execution_count": 13,
      "outputs": [
        {
          "output_type": "stream",
          "name": "stdout",
          "text": [
            "[['学生们', '用', '纸折飞机', '。']]\n"
          ]
        },
        {
          "output_type": "execute_result",
          "data": {
            "text/plain": [
              "[[(1, 2, 'AGT'), (2, 0, 'Root'), (3, 2, 'TOOL'), (4, 2, 'mPUNC')]]"
            ]
          },
          "metadata": {},
          "execution_count": 13
        }
      ]
    },
    {
      "cell_type": "code",
      "metadata": {
        "colab": {
          "base_uri": "https://localhost:8080/"
        },
        "id": "3yUKnkwHtfVF",
        "outputId": "c1e0e09b-cf4b-40c6-b2c2-879ea40dde15"
      },
      "source": [
        "seg, hidden = ltp.seg([\"军士齐声高喊。\"])\n",
        "print(seg)\n",
        "sdp = ltp.sdp(hidden, mode='tree')\n",
        "sdp"
      ],
      "execution_count": 14,
      "outputs": [
        {
          "output_type": "stream",
          "name": "stdout",
          "text": [
            "[['军士', '齐声', '高喊', '。']]\n"
          ]
        },
        {
          "output_type": "execute_result",
          "data": {
            "text/plain": [
              "[[(1, 3, 'AGT'), (2, 3, 'MANN'), (3, 0, 'Root'), (4, 3, 'mPUNC')]]"
            ]
          },
          "metadata": {},
          "execution_count": 14
        }
      ]
    },
    {
      "cell_type": "code",
      "metadata": {
        "colab": {
          "base_uri": "https://localhost:8080/"
        },
        "id": "dccdaZU8tfXo",
        "outputId": "d3e7da27-8007-4b0a-aabf-73dc048b3a65"
      },
      "source": [
        "seg, hidden = ltp.seg([\"数学方面他是专家。\"])\n",
        "print(seg)\n",
        "sdp = ltp.sdp(hidden, mode='tree')\n",
        "sdp"
      ],
      "execution_count": 15,
      "outputs": [
        {
          "output_type": "stream",
          "name": "stdout",
          "text": [
            "[['数学', '方面', '他', '是', '专家', '。']]\n"
          ]
        },
        {
          "output_type": "execute_result",
          "data": {
            "text/plain": [
              "[[(1, 2, 'FEAT'),\n",
              "  (2, 4, 'SCO'),\n",
              "  (3, 4, 'EXP'),\n",
              "  (4, 0, 'Root'),\n",
              "  (5, 4, 'LINK'),\n",
              "  (6, 4, 'mPUNC')]]"
            ]
          },
          "metadata": {},
          "execution_count": 15
        }
      ]
    },
    {
      "cell_type": "code",
      "metadata": {
        "colab": {
          "base_uri": "https://localhost:8080/"
        },
        "id": "nkMVbliBtfaf",
        "outputId": "aea39b0d-69fe-4391-da96-a38f606bc974"
      },
      "source": [
        "seg, hidden = ltp.seg([\"他因为堵车迟到了。\"])\n",
        "print(seg)\n",
        "sdp = ltp.sdp(hidden, mode='tree')\n",
        "sdp"
      ],
      "execution_count": 16,
      "outputs": [
        {
          "output_type": "stream",
          "name": "stdout",
          "text": [
            "[['他', '因为', '堵车', '迟到', '了', '。']]\n"
          ]
        },
        {
          "output_type": "execute_result",
          "data": {
            "text/plain": [
              "[[(1, 4, 'AGT'),\n",
              "  (2, 3, 'mRELA'),\n",
              "  (3, 4, 'REAS'),\n",
              "  (4, 0, 'Root'),\n",
              "  (5, 4, 'mDEPD'),\n",
              "  (6, 4, 'mPUNC')]]"
            ]
          },
          "metadata": {},
          "execution_count": 16
        }
      ]
    },
    {
      "cell_type": "code",
      "metadata": {
        "colab": {
          "base_uri": "https://localhost:8080/"
        },
        "id": "dItOtzLrtfdG",
        "outputId": "fe2892b0-f797-4c55-f713-10a960377158"
      },
      "source": [
        "seg, hidden = ltp.seg([\"周一早上升旗。\"])\n",
        "print(seg)\n",
        "sdp = ltp.sdp(hidden, mode='tree')\n",
        "sdp"
      ],
      "execution_count": 17,
      "outputs": [
        {
          "output_type": "stream",
          "name": "stdout",
          "text": [
            "[['周一早上', '升旗', '。']]\n"
          ]
        },
        {
          "output_type": "execute_result",
          "data": {
            "text/plain": [
              "[[(1, 2, 'TIME'), (2, 0, 'Root'), (3, 2, 'mPUNC')]]"
            ]
          },
          "metadata": {},
          "execution_count": 17
        }
      ]
    },
    {
      "cell_type": "code",
      "metadata": {
        "colab": {
          "base_uri": "https://localhost:8080/"
        },
        "id": "1-QOez9jtffl",
        "outputId": "cb401ae2-1703-4e68-fd26-544889aa7f79"
      },
      "source": [
        "seg, hidden = ltp.seg([\"我明天去哈尔滨。\"])\n",
        "print(seg)\n",
        "sdp = ltp.sdp(hidden, mode='tree')\n",
        "sdp"
      ],
      "execution_count": 18,
      "outputs": [
        {
          "output_type": "stream",
          "name": "stdout",
          "text": [
            "[['我', '明天', '去', '哈尔滨', '。']]\n"
          ]
        },
        {
          "output_type": "execute_result",
          "data": {
            "text/plain": [
              "[[(1, 3, 'AGT'),\n",
              "  (2, 3, 'TIME'),\n",
              "  (3, 0, 'Root'),\n",
              "  (4, 3, 'LOC'),\n",
              "  (5, 3, 'mPUNC')]]"
            ]
          },
          "metadata": {},
          "execution_count": 18
        }
      ]
    },
    {
      "cell_type": "code",
      "metadata": {
        "colab": {
          "base_uri": "https://localhost:8080/"
        },
        "id": "ZPeSFfSytfiJ",
        "outputId": "94d153d2-7813-4c15-e3f0-679ab0c43a13"
      },
      "source": [
        "seg, hidden = ltp.seg([\"一年有365天。\"])\n",
        "print(seg)\n",
        "sdp = ltp.sdp(hidden, mode='tree')\n",
        "sdp"
      ],
      "execution_count": 19,
      "outputs": [
        {
          "output_type": "stream",
          "name": "stdout",
          "text": [
            "[['一', '年', '有', '365', '天', '。']]\n"
          ]
        },
        {
          "output_type": "execute_result",
          "data": {
            "text/plain": [
              "[[(1, 2, 'MEAS'),\n",
              "  (2, 3, 'EXP'),\n",
              "  (3, 0, 'Root'),\n",
              "  (4, 5, 'MEAS'),\n",
              "  (5, 3, 'LINK'),\n",
              "  (6, 3, 'mPUNC')]]"
            ]
          },
          "metadata": {},
          "execution_count": 19
        }
      ]
    },
    {
      "cell_type": "code",
      "metadata": {
        "colab": {
          "base_uri": "https://localhost:8080/"
        },
        "id": "oEdjF25ztflA",
        "outputId": "edf19bc9-a1a8-4686-e7d9-7c840ab5d384"
      },
      "source": [
        "seg, hidden = ltp.seg([\"人类是从类人猿进化来的吗？\"])\n",
        "print(seg)\n",
        "sdp = ltp.sdp(hidden, mode='tree')\n",
        "sdp"
      ],
      "execution_count": 20,
      "outputs": [
        {
          "output_type": "stream",
          "name": "stdout",
          "text": [
            "[['人类', '是', '从类人猿', '进化', '来', '的', '吗', '？']]\n"
          ]
        },
        {
          "output_type": "execute_result",
          "data": {
            "text/plain": [
              "[[(1, 4, 'AGT'),\n",
              "  (2, 4, 'mDEPD'),\n",
              "  (3, 4, 'mRELA'),\n",
              "  (4, 0, 'Root'),\n",
              "  (5, 4, 'mDEPD'),\n",
              "  (6, 4, 'mDEPD'),\n",
              "  (7, 4, 'mDEPD'),\n",
              "  (8, 4, 'mPUNC')]]"
            ]
          },
          "metadata": {},
          "execution_count": 20
        }
      ]
    },
    {
      "cell_type": "code",
      "metadata": {
        "colab": {
          "base_uri": "https://localhost:8080/"
        },
        "id": "PzEk-zYrt3eb",
        "outputId": "bbc4f29c-5eb4-4ef7-b4a8-7c2166187f03"
      },
      "source": [
        "seg, hidden = ltp.seg([\"她是个漂亮的女孩。\"])\n",
        "print(seg)\n",
        "sdp = ltp.sdp(hidden, mode='tree')\n",
        "sdp"
      ],
      "execution_count": 21,
      "outputs": [
        {
          "output_type": "stream",
          "name": "stdout",
          "text": [
            "[['她', '是', '个', '漂亮', '的', '女孩', '。']]\n"
          ]
        },
        {
          "output_type": "execute_result",
          "data": {
            "text/plain": [
              "[[(1, 2, 'EXP'),\n",
              "  (2, 0, 'Root'),\n",
              "  (3, 6, 'MEAS'),\n",
              "  (4, 6, 'FEAT'),\n",
              "  (5, 4, 'mDEPD'),\n",
              "  (6, 2, 'LINK'),\n",
              "  (7, 2, 'mPUNC')]]"
            ]
          },
          "metadata": {},
          "execution_count": 21
        }
      ]
    },
    {
      "cell_type": "markdown",
      "metadata": {
        "id": "D7OrEF_xrJdY"
      },
      "source": [
        "# 语义结构关系"
      ]
    },
    {
      "cell_type": "markdown",
      "metadata": {
        "id": "Ro-AExQnrhax"
      },
      "source": [
        "## 反关系"
      ]
    },
    {
      "cell_type": "code",
      "metadata": {
        "colab": {
          "base_uri": "https://localhost:8080/"
        },
        "id": "VttD_4pVuIVg",
        "outputId": "e9fd5c63-7ce8-4d39-f88b-5b26df00157e"
      },
      "source": [
        "seg, hidden = ltp.seg([\"选手受伤了。\"])\n",
        "print(seg)\n",
        "sdp = ltp.sdp(hidden, mode='tree')\n",
        "sdp"
      ],
      "execution_count": 22,
      "outputs": [
        {
          "output_type": "stream",
          "name": "stdout",
          "text": [
            "[['选手', '受伤', '了', '。']]\n"
          ]
        },
        {
          "output_type": "execute_result",
          "data": {
            "text/plain": [
              "[[(1, 2, 'EXP'), (2, 0, 'Root'), (3, 2, 'mDEPD'), (4, 2, 'mPUNC')]]"
            ]
          },
          "metadata": {},
          "execution_count": 22
        }
      ]
    },
    {
      "cell_type": "code",
      "metadata": {
        "colab": {
          "base_uri": "https://localhost:8080/"
        },
        "id": "SL32H6IuuPx0",
        "outputId": "97708e2a-a74a-4c68-a305-29da985b3663"
      },
      "source": [
        "seg, hidden = ltp.seg([\"受伤的选手。\"])\n",
        "print(seg)\n",
        "sdp = ltp.sdp(hidden, mode='tree')\n",
        "sdp"
      ],
      "execution_count": 23,
      "outputs": [
        {
          "output_type": "stream",
          "name": "stdout",
          "text": [
            "[['受伤', '的', '选手', '。']]\n"
          ]
        },
        {
          "output_type": "execute_result",
          "data": {
            "text/plain": [
              "[[(1, 3, 'FEAT'), (2, 1, 'mDEPD'), (3, 0, 'Root'), (4, 3, 'mPUNC')]]"
            ]
          },
          "metadata": {},
          "execution_count": 23
        }
      ]
    },
    {
      "cell_type": "markdown",
      "metadata": {
        "id": "9xprNQ7FrjgV"
      },
      "source": [
        "## 嵌套 关系"
      ]
    },
    {
      "cell_type": "code",
      "metadata": {
        "colab": {
          "base_uri": "https://localhost:8080/"
        },
        "id": "ED6PFILcuj1P",
        "outputId": "ba84d1bd-a191-4015-94be-f19e8f07999b"
      },
      "source": [
        "seg, hidden = ltp.seg([\"被嵌套的事件相当于一个论元。爷爷看见小孙女在操作计算机。\"])\n",
        "print(seg)\n",
        "sdp = ltp.sdp(hidden, mode='tree')\n",
        "sdp"
      ],
      "execution_count": 24,
      "outputs": [
        {
          "output_type": "stream",
          "name": "stdout",
          "text": [
            "[['被', '嵌套', '的', '事件', '相当于', '一个', '论元', '。', '爷爷', '看见', '小孙女', '在', '操作', '计算机', '。']]\n"
          ]
        },
        {
          "output_type": "execute_result",
          "data": {
            "text/plain": [
              "[[(1, 2, 'mRELA'),\n",
              "  (2, 4, 'rPAT'),\n",
              "  (3, 2, 'mDEPD'),\n",
              "  (4, 5, 'EXP'),\n",
              "  (5, 0, 'Root'),\n",
              "  (6, 7, 'MEAS'),\n",
              "  (7, 5, 'LINK'),\n",
              "  (8, 5, 'mPUNC'),\n",
              "  (9, 10, 'AGT'),\n",
              "  (10, 5, 'eSUCC'),\n",
              "  (11, 13, 'AGT'),\n",
              "  (12, 13, 'mDEPD'),\n",
              "  (13, 10, 'dCONT'),\n",
              "  (14, 13, 'CONT'),\n",
              "  (15, 10, 'mPUNC')]]"
            ]
          },
          "metadata": {},
          "execution_count": 24
        }
      ]
    },
    {
      "cell_type": "code",
      "metadata": {
        "colab": {
          "base_uri": "https://localhost:8080/"
        },
        "id": "U-Ss911_uj90",
        "outputId": "ec8b245e-0272-49d2-8d4e-3f74c6aef2be"
      },
      "source": [
        "seg, hidden = ltp.seg([\"被嵌套的事件相当于一个修饰成分。爷爷拍摄了小孙女在操作计算机的照片。\"])\n",
        "print(seg)\n",
        "sdp = ltp.sdp(hidden, mode='tree')\n",
        "sdp"
      ],
      "execution_count": 25,
      "outputs": [
        {
          "output_type": "stream",
          "name": "stdout",
          "text": [
            "[['被', '嵌套', '的', '事件', '相当于', '一个', '修饰', '成分', '。', '爷爷', '拍摄', '了', '小孙女', '在', '操作', '计算机', '的', '照片', '。']]\n"
          ]
        },
        {
          "output_type": "execute_result",
          "data": {
            "text/plain": [
              "[[(1, 2, 'mRELA'),\n",
              "  (2, 4, 'FEAT'),\n",
              "  (3, 2, 'mDEPD'),\n",
              "  (4, 5, 'EXP'),\n",
              "  (5, 0, 'Root'),\n",
              "  (6, 8, 'MEAS'),\n",
              "  (7, 8, 'FEAT'),\n",
              "  (8, 5, 'DATV'),\n",
              "  (9, 5, 'mPUNC'),\n",
              "  (10, 11, 'AGT'),\n",
              "  (11, 5, 'eSUCC'),\n",
              "  (12, 11, 'mDEPD'),\n",
              "  (13, 15, 'AGT'),\n",
              "  (14, 15, 'mDEPD'),\n",
              "  (15, 18, 'dFEAT'),\n",
              "  (16, 15, 'PAT'),\n",
              "  (17, 15, 'mDEPD'),\n",
              "  (18, 11, 'CONT'),\n",
              "  (19, 11, 'mPUNC')]]"
            ]
          },
          "metadata": {},
          "execution_count": 25
        }
      ]
    },
    {
      "cell_type": "markdown",
      "metadata": {
        "id": "z5nqp0e6rl2-"
      },
      "source": [
        "## 事件 关系"
      ]
    },
    {
      "cell_type": "code",
      "metadata": {
        "colab": {
          "base_uri": "https://localhost:8080/"
        },
        "id": "zqborMkeurc2",
        "outputId": "d0bb4f13-27c8-42bc-d8a8-5bc149e3e793"
      },
      "source": [
        "seg, hidden = ltp.seg([\"兄弟俩边走边说。\"])\n",
        "print(seg)\n",
        "sdp = ltp.sdp(hidden, mode='tree')\n",
        "sdp"
      ],
      "execution_count": 26,
      "outputs": [
        {
          "output_type": "stream",
          "name": "stdout",
          "text": [
            "[['兄弟', '俩', '边', '走', '边', '说', '。']]\n"
          ]
        },
        {
          "output_type": "execute_result",
          "data": {
            "text/plain": [
              "[[(1, 4, 'AGT'),\n",
              "  (2, 1, 'eCOO'),\n",
              "  (3, 4, 'mRELA'),\n",
              "  (4, 0, 'Root'),\n",
              "  (5, 6, 'mRELA'),\n",
              "  (6, 4, 'eCOO'),\n",
              "  (7, 6, 'mPUNC')]]"
            ]
          },
          "metadata": {},
          "execution_count": 26
        }
      ]
    },
    {
      "cell_type": "code",
      "metadata": {
        "colab": {
          "base_uri": "https://localhost:8080/"
        },
        "id": "heo-GueEurWK",
        "outputId": "c216f766-5041-4bdb-f7fe-cc38d0af3c60"
      },
      "source": [
        "seg, hidden = ltp.seg([\"要想成功，就要努力。\"])\n",
        "print(seg)\n",
        "sdp = ltp.sdp(hidden, mode='tree')\n",
        "sdp"
      ],
      "execution_count": 27,
      "outputs": [
        {
          "output_type": "stream",
          "name": "stdout",
          "text": [
            "[['要', '想', '成功', '，', '就要', '努力', '。']]\n"
          ]
        },
        {
          "output_type": "execute_result",
          "data": {
            "text/plain": [
              "[[(1, 2, 'mRELA'),\n",
              "  (2, 6, 'ePREC'),\n",
              "  (3, 2, 'CONT'),\n",
              "  (4, 2, 'mPUNC'),\n",
              "  (5, 6, 'mRELA'),\n",
              "  (6, 0, 'Root'),\n",
              "  (7, 6, 'mPUNC')]]"
            ]
          },
          "metadata": {},
          "execution_count": 27
        }
      ]
    },
    {
      "cell_type": "code",
      "metadata": {
        "colab": {
          "base_uri": "https://localhost:8080/"
        },
        "id": "C9x0EVxcurN2",
        "outputId": "2656fefb-0d19-4b60-a8a6-0e5f6680efa4"
      },
      "source": [
        "seg, hidden = ltp.seg([\"他穿好衣服，走出门去。\"])\n",
        "print(seg)\n",
        "sdp = ltp.sdp(hidden, mode='tree')\n",
        "sdp"
      ],
      "execution_count": 28,
      "outputs": [
        {
          "output_type": "stream",
          "name": "stdout",
          "text": [
            "[['他', '穿', '好', '衣服', '，', '走出门去', '。']]\n"
          ]
        },
        {
          "output_type": "execute_result",
          "data": {
            "text/plain": [
              "[[(1, 2, 'AGT'),\n",
              "  (2, 0, 'Root'),\n",
              "  (3, 4, 'FEAT'),\n",
              "  (4, 2, 'PAT'),\n",
              "  (5, 2, 'mPUNC'),\n",
              "  (6, 2, 'eSUCC'),\n",
              "  (7, 6, 'mPUNC')]]"
            ]
          },
          "metadata": {},
          "execution_count": 28
        }
      ]
    },
    {
      "cell_type": "markdown",
      "metadata": {
        "id": "ER4Aiir6rJlD"
      },
      "source": [
        "# 语义依附标记"
      ]
    },
    {
      "cell_type": "markdown",
      "metadata": {
        "id": "FsCX40y4roV8"
      },
      "source": [
        "## 标点 标记"
      ]
    },
    {
      "cell_type": "code",
      "metadata": {
        "colab": {
          "base_uri": "https://localhost:8080/"
        },
        "id": "T0itjy-yu1ed",
        "outputId": "05b5293f-fc9b-492e-c109-6185f880b199"
      },
      "source": [
        "seg, hidden = ltp.seg([\"他喜欢音乐。\"])\n",
        "print(seg)\n",
        "sdp = ltp.sdp(hidden, mode='tree')\n",
        "sdp"
      ],
      "execution_count": 29,
      "outputs": [
        {
          "output_type": "stream",
          "name": "stdout",
          "text": [
            "[['他', '喜欢', '音乐', '。']]\n"
          ]
        },
        {
          "output_type": "execute_result",
          "data": {
            "text/plain": [
              "[[(1, 2, 'AGT'), (2, 0, 'Root'), (3, 2, 'CONT'), (4, 2, 'mPUNC')]]"
            ]
          },
          "metadata": {},
          "execution_count": 29
        }
      ]
    },
    {
      "cell_type": "markdown",
      "metadata": {
        "id": "IL5QOCFKrqgy"
      },
      "source": [
        "## 依附 标记"
      ]
    },
    {
      "cell_type": "code",
      "metadata": {
        "colab": {
          "base_uri": "https://localhost:8080/"
        },
        "id": "7i8n6tw3u5wa",
        "outputId": "6e3da8fc-079f-4934-d6b4-8728c4296cee"
      },
      "source": [
        "seg, hidden = ltp.seg([\"她不像她母亲。\"])\n",
        "print(seg)\n",
        "sdp = ltp.sdp(hidden, mode='tree')\n",
        "sdp"
      ],
      "execution_count": 30,
      "outputs": [
        {
          "output_type": "stream",
          "name": "stdout",
          "text": [
            "[['她', '不', '像', '她', '母亲', '。']]\n"
          ]
        },
        {
          "output_type": "execute_result",
          "data": {
            "text/plain": [
              "[[(1, 3, 'EXP'),\n",
              "  (2, 3, 'mNEG'),\n",
              "  (3, 0, 'Root'),\n",
              "  (4, 5, 'FEAT'),\n",
              "  (5, 3, 'LINK'),\n",
              "  (6, 3, 'mPUNC')]]"
            ]
          },
          "metadata": {},
          "execution_count": 30
        }
      ]
    },
    {
      "cell_type": "code",
      "metadata": {
        "colab": {
          "base_uri": "https://localhost:8080/"
        },
        "id": "1KYz72JFu5q2",
        "outputId": "0cdb2d8c-6429-4d86-923a-4989a0e4d8f4"
      },
      "source": [
        "seg, hidden = ltp.seg([\"但是我没有放弃看书。\"])\n",
        "print(seg)\n",
        "sdp = ltp.sdp(hidden, mode='tree')\n",
        "sdp"
      ],
      "execution_count": 31,
      "outputs": [
        {
          "output_type": "stream",
          "name": "stdout",
          "text": [
            "[['但是', '我', '没有', '放弃', '看书', '。']]\n"
          ]
        },
        {
          "output_type": "execute_result",
          "data": {
            "text/plain": [
              "[[(1, 4, 'mRELA'),\n",
              "  (2, 4, 'AGT'),\n",
              "  (3, 4, 'mNEG'),\n",
              "  (4, 0, 'Root'),\n",
              "  (5, 4, 'dCONT'),\n",
              "  (6, 4, 'mPUNC')]]"
            ]
          },
          "metadata": {},
          "execution_count": 31
        }
      ]
    },
    {
      "cell_type": "code",
      "metadata": {
        "colab": {
          "base_uri": "https://localhost:8080/"
        },
        "id": "9xqhRDhTrRHq",
        "outputId": "14aa8012-077d-40bd-d898-df421d22ae4f"
      },
      "source": [
        "seg, hidden = ltp.seg([\"他在这里住了三十年。\"])\n",
        "print(seg)\n",
        "sdp = ltp.sdp(hidden, mode='tree')\n",
        "sdp"
      ],
      "execution_count": 32,
      "outputs": [
        {
          "output_type": "stream",
          "name": "stdout",
          "text": [
            "[['他', '在', '这里', '住', '了', '三十', '年', '。']]\n"
          ]
        },
        {
          "output_type": "execute_result",
          "data": {
            "text/plain": [
              "[[(1, 4, 'AGT'),\n",
              "  (2, 3, 'mRELA'),\n",
              "  (3, 4, 'LOC'),\n",
              "  (4, 0, 'Root'),\n",
              "  (5, 4, 'mDEPD'),\n",
              "  (6, 7, 'MEAS'),\n",
              "  (7, 4, 'TIME'),\n",
              "  (8, 4, 'mPUNC')]]"
            ]
          },
          "metadata": {},
          "execution_count": 32
        }
      ]
    },
    {
      "cell_type": "code",
      "metadata": {
        "id": "7ePK4Hzxu_bo"
      },
      "source": [
        ""
      ],
      "execution_count": null,
      "outputs": []
    }
  ]
}