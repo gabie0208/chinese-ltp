{
  "nbformat": 4,
  "nbformat_minor": 0,
  "metadata": {
    "colab": {
      "name": "텍스트 파일 분할하여 저장하기.ipynb",
      "provenance": [],
      "collapsed_sections": []
    },
    "kernelspec": {
      "name": "python3",
      "display_name": "Python 3"
    },
    "language_info": {
      "name": "python"
    }
  },
  "cells": [
    {
      "cell_type": "code",
      "metadata": {
        "id": "rhRZYc-gA_ih"
      },
      "source": [
        "f = open(\"verb_qilai_literature.txt\", 'r')\n",
        "lines = f.readlines()\n",
        "f.close()"
      ],
      "execution_count": 1,
      "outputs": []
    },
    {
      "cell_type": "code",
      "metadata": {
        "colab": {
          "base_uri": "https://localhost:8080/"
        },
        "id": "RoPvsyesBBb0",
        "outputId": "bbabf304-20eb-4386-b6d4-b17434d22310"
      },
      "source": [
        "len(lines)"
      ],
      "execution_count": 2,
      "outputs": [
        {
          "output_type": "execute_result",
          "data": {
            "text/plain": [
              "22873"
            ]
          },
          "metadata": {},
          "execution_count": 2
        }
      ]
    },
    {
      "cell_type": "code",
      "metadata": {
        "id": "Mv0zxLWy_vQW"
      },
      "source": [
        "f = open(\"verb_qilai_literature.txt\", 'r')\n",
        "lines = f.readlines()\n",
        "f.close()\n",
        "\n",
        "cnt = 1\n",
        "fileNum = 1\n",
        "\n",
        "for line in lines:\n",
        "  fileName = \"verb_qilai_literature_\" + str(fileNum) + \".txt\"\n",
        "\n",
        "  fw = open(fileName, \"a\")\n",
        "  fw.write(line)\n",
        "  fw.close()\n",
        "\n",
        "  if cnt == 5000:\n",
        "    fileNum += 1\n",
        "    cnt = 0\n",
        "  \n",
        "  cnt += 1\n"
      ],
      "execution_count": 3,
      "outputs": []
    },
    {
      "cell_type": "code",
      "metadata": {
        "colab": {
          "base_uri": "https://localhost:8080/"
        },
        "id": "I2C8k6UhBLCx",
        "outputId": "95bb328d-a63b-4bf4-b7d4-d8c15218a3cf"
      },
      "source": [
        "f = open(\"verb_qilai_literature_1.txt\", 'r')\n",
        "lines = f.readlines()\n",
        "len(lines)"
      ],
      "execution_count": 4,
      "outputs": [
        {
          "output_type": "execute_result",
          "data": {
            "text/plain": [
              "5000"
            ]
          },
          "metadata": {},
          "execution_count": 4
        }
      ]
    },
    {
      "cell_type": "code",
      "metadata": {
        "colab": {
          "base_uri": "https://localhost:8080/"
        },
        "id": "CYwO3nbWBZ3g",
        "outputId": "e41ca973-be1d-4f4b-cd92-9ad3b6943912"
      },
      "source": [
        "f = open(\"verb_qilai_literature_5.txt\", 'r')\n",
        "lines = f.readlines()\n",
        "len(lines)"
      ],
      "execution_count": 5,
      "outputs": [
        {
          "output_type": "execute_result",
          "data": {
            "text/plain": [
              "2873"
            ]
          },
          "metadata": {},
          "execution_count": 5
        }
      ]
    }
  ]
}